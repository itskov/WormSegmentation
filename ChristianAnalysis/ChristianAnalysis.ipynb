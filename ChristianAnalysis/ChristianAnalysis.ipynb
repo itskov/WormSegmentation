{
 "cells": [
  {
   "cell_type": "markdown",
   "metadata": {},
   "source": [
    "# First make sure all the files are ready for analysis"
   ]
  },
  {
   "cell_type": "code",
   "execution_count": 1,
   "metadata": {},
   "outputs": [
    {
     "name": "stdout",
     "output_type": "stream",
     "text": [
      "Starting..\n",
      "0. Going over /home/itskov/Temp/behav/05-Dec-2019/MOCK_STAP.avi_12.57.19\n",
      "1. Going over /home/itskov/Temp/behav/05-Dec-2019/STAP.avi_12.13.59\n",
      "{}\n",
      "Initializing Experiment with dir: /home/itskov/Temp/behav/05-Dec-2019/STAP.avi_12.13.59 and with 25486 tracks\n",
      "{}\n",
      "2. Going over /home/itskov/Temp/behav/05-Dec-2019/MOCK_STAP.avi_12.13.37\n",
      "{}\n",
      "Initializing Experiment with dir: /home/itskov/Temp/behav/05-Dec-2019/MOCK_STAP.avi_12.13.37 and with 35757 tracks\n",
      "{}\n",
      "3. Going over /home/itskov/Temp/behav/05-Dec-2019/STAP.avi_12.58.39\n",
      "{}\n",
      "Initializing Experiment with dir: /home/itskov/Temp/behav/05-Dec-2019/STAP.avi_12.58.39 and with 46030 tracks\n",
      "{}\n"
     ]
    },
    {
     "data": {
      "text/html": [
       "<div>\n",
       "<style scoped>\n",
       "    .dataframe tbody tr th:only-of-type {\n",
       "        vertical-align: middle;\n",
       "    }\n",
       "\n",
       "    .dataframe tbody tr th {\n",
       "        vertical-align: top;\n",
       "    }\n",
       "\n",
       "    .dataframe thead th {\n",
       "        text-align: right;\n",
       "    }\n",
       "</style>\n",
       "<table border=\"1\" class=\"dataframe\">\n",
       "  <thead>\n",
       "    <tr style=\"text-align: right;\">\n",
       "      <th></th>\n",
       "      <th>date</th>\n",
       "      <th>time</th>\n",
       "      <th>cond</th>\n",
       "      <th>fullFile</th>\n",
       "    </tr>\n",
       "  </thead>\n",
       "  <tbody>\n",
       "    <tr>\n",
       "      <th>0</th>\n",
       "      <td>05-Dec-2019</td>\n",
       "      <td>12.57.19</td>\n",
       "      <td>MOCK_STAP</td>\n",
       "      <td>/home/itskov/Temp/behav/05-Dec-2019/MOCK_STAP....</td>\n",
       "    </tr>\n",
       "    <tr>\n",
       "      <th>1</th>\n",
       "      <td>05-Dec-2019</td>\n",
       "      <td>12.13.59</td>\n",
       "      <td>STAP</td>\n",
       "      <td>/home/itskov/Temp/behav/05-Dec-2019/STAP.avi_1...</td>\n",
       "    </tr>\n",
       "    <tr>\n",
       "      <th>2</th>\n",
       "      <td>05-Dec-2019</td>\n",
       "      <td>12.13.37</td>\n",
       "      <td>MOCK_STAP</td>\n",
       "      <td>/home/itskov/Temp/behav/05-Dec-2019/MOCK_STAP....</td>\n",
       "    </tr>\n",
       "    <tr>\n",
       "      <th>3</th>\n",
       "      <td>05-Dec-2019</td>\n",
       "      <td>12.58.39</td>\n",
       "      <td>STAP</td>\n",
       "      <td>/home/itskov/Temp/behav/05-Dec-2019/STAP.avi_1...</td>\n",
       "    </tr>\n",
       "  </tbody>\n",
       "</table>\n",
       "</div>"
      ],
      "text/plain": [
       "          date      time       cond  \\\n",
       "0  05-Dec-2019  12.57.19  MOCK_STAP   \n",
       "1  05-Dec-2019  12.13.59       STAP   \n",
       "2  05-Dec-2019  12.13.37  MOCK_STAP   \n",
       "3  05-Dec-2019  12.58.39       STAP   \n",
       "\n",
       "                                            fullFile  \n",
       "0  /home/itskov/Temp/behav/05-Dec-2019/MOCK_STAP....  \n",
       "1  /home/itskov/Temp/behav/05-Dec-2019/STAP.avi_1...  \n",
       "2  /home/itskov/Temp/behav/05-Dec-2019/MOCK_STAP....  \n",
       "3  /home/itskov/Temp/behav/05-Dec-2019/STAP.avi_1...  "
      ]
     },
     "execution_count": 1,
     "metadata": {},
     "output_type": "execute_result"
    }
   ],
   "source": [
    "import sys\n",
    "sys.path.append('/home/itskov/Dropbox/workspace/lab/DeepSemantic/WormSegmentation')\n",
    "\n",
    "import matplotlib\n",
    "matplotlib.use('TkAgg')\n",
    "\n",
    "from glob2 import glob\n",
    "from Behavior.General.ExpDir import ExpDir\n",
    "from Behavior.General.Experiment import Experiment\n",
    "from os import listdir, path\n",
    "import pandas as pd\n",
    "\n",
    "\n",
    "# Debug (Temporary)\n",
    "from Behavior.General import Track\n",
    "sys.modules['Track'] = Track\n",
    "# Debug (Temporary)\n",
    "\n",
    "import numpy as np\n",
    "import re\n",
    "\n",
    "print('Starting..')\n",
    "\n",
    "# Here is where the tracked files are stored.\n",
    "#rootDir = '/mnt/storageNASRe/tph1/Results/24-Nov-2019'\n",
    "#rootDir = '/mnt/storageNASRe/ChristianData/ChrisNewTracks/'\n",
    "rootDir = '/home/itskov/Temp/behav/05-Dec-2019/'\n",
    "allTrackedFiles = glob(rootDir + '/**/*tracks.npy')\n",
    "allTrackedDirectories = [path.dirname(tracksFile) for tracksFile in allTrackedFiles]\n",
    "\n",
    "\n",
    "# Here we store our experiments meta information\n",
    "expDf = pd.DataFrame(columns=['date','time', 'cond','fullFile'])\n",
    "\n",
    "for i, trackedDir in enumerate(allTrackedDirectories):\n",
    "    fullFile = path.join(rootDir, trackedDir)\n",
    "    print(\"%d. Going over %s\" % (i, fullFile))\n",
    "    \n",
    "    # This object helps us manage the tracked files.\n",
    "    expDir = ExpDir(str(fullFile))\n",
    "    \n",
    "    #if True:\n",
    "    if (expDir.getExpFile() == None) or (not expDir.isValid()):\n",
    "        #newExp = Experiment(expDir.getVidFile(), np.load(expDir.getTracksFile()))\n",
    "        newExp = Experiment(expDir)\n",
    "        newExp.takeScale()\n",
    "        newExp.addCirclePotisionRad('startReg',newExp._scale / 5)\n",
    "        newExp.addCirclePotisionRad('endReg',newExp._scale / 4)\n",
    "        newExp.save()\n",
    "        pass\n",
    "        \n",
    "        \n",
    "    currentDate = re.search('\\d\\d-\\w\\w\\w-\\d\\d\\d\\d',trackedDir)[0]\n",
    "    currentTime = re.search('_(\\d\\d\\.\\d\\d\\.\\d\\d)',path.basename(fullFile))[1]\n",
    "    cond = re.search('(.*)\\.avi',path.basename(fullFile))[1]\n",
    "    \n",
    "    # Irregularities\n",
    "    #if cond == 'STAP_Mock':\n",
    "    #    cond = 'MOCK_STAP'\n",
    "    #elif cond == 'LTAV_MOCK':\n",
    "    #    cond = 'MOCK_LTAV'\n",
    "    #elif cond == 'TEMP_EYAL_LIGHT':\n",
    "    #    continue\n",
    "    \n",
    "    expDf.loc[i] = [currentDate, currentTime, cond, fullFile]\n",
    "    #print('Date: ' + currentDate + ' Cond: ' + cond)\n",
    "expDf"
   ]
  },
  {
   "cell_type": "markdown",
   "metadata": {},
   "source": [
    "\n",
    "# Pair analyses"
   ]
  },
  {
   "cell_type": "code",
   "execution_count": 14,
   "metadata": {},
   "outputs": [
    {
     "data": {
      "application/vnd.jupyter.widget-view+json": {
       "model_id": "191f180e318747ceb6ebd9a34b1982d5",
       "version_major": 2,
       "version_minor": 0
      },
      "text/plain": [
       "Output()"
      ]
     },
     "metadata": {},
     "output_type": "display_data"
    },
    {
     "data": {
      "application/vnd.jupyter.widget-view+json": {
       "model_id": "310418f66c0b46d98e9da8f07ebc04c2",
       "version_major": 2,
       "version_minor": 0
      },
      "text/plain": [
       "HBox(children=(VBox(children=(Dropdown(description='Cond', options=('TPH_1_ATR_TRAIN_IAA3x5', 'TPH_1_NO_ATR_TR…"
      ]
     },
     "metadata": {},
     "output_type": "display_data"
    }
   ],
   "source": [
    "import sys\n",
    "sys.path.append('/home/itskov/workspace/lab/DeepSemantic/WormSegmentation')\n",
    "\n",
    "\n",
    "import ipywidgets as widgets\n",
    "from ipywidgets import interact, interactive, fixed, interact_manual, widgets, VBox,HBox\n",
    "\n",
    "from Behavior.Visualizers.PairwiseAnalyses import PairWiseRoi\n",
    "from Behavior.Visualizers.PairwiseAnalyses import PairWiseProjectionDensity, PairWiseOccupVisoulatizer, PairWiseSpeedDensity, PairWiseRevDistances\n",
    "from Behavior.General.TracksFilter import filterTracksForAnalyses\n",
    "\n",
    "\n",
    "\n",
    "# First experiment widgets\n",
    "#print(pd.unique(expDf['date']))\n",
    "dateWidget1 = widgets.Dropdown(options=pd.unique(expDf['date']),value=expDf['date'][0], description='Date')\n",
    "condWidget1 = widgets.Dropdown(options=pd.unique(expDf['cond']),value=expDf['cond'][0], description='Cond')\n",
    "timeWidget1 = widgets.Dropdown(options=[], description='Time')\n",
    "\n",
    "# Second experiment widgets\n",
    "dateWidget2 = widgets.Dropdown(options=pd.unique(expDf['date']),value=expDf['date'][0], description='Date')\n",
    "condWidget2 = widgets.Dropdown(options=pd.unique(expDf['cond']),value=expDf['cond'][0], description='Cond')\n",
    "timeWidget2 = widgets.Dropdown(options=[], description='Time')\n",
    "\n",
    "out = widgets.Output()\n",
    "display(out)\n",
    "\n",
    "@out.capture()\n",
    "def runAnalysis(arg):\n",
    "    firstCond = condWidget1.value\n",
    "    firstDate = dateWidget1.value\n",
    "    firstTime = timeWidget1.value\n",
    "    secondCond = condWidget2.value\n",
    "    secondDate = dateWidget2.value\n",
    "    secondTime = timeWidget2.value\n",
    "    \n",
    "    firstFile = expDf[(expDf.cond == firstCond) & \n",
    "                      (expDf.date == firstDate) & \n",
    "                      (expDf.time == firstTime)]['fullFile']\n",
    "    \n",
    "    secondFile = expDf[(expDf.cond == secondCond) & \n",
    "                       (expDf.date == secondDate) & \n",
    "                       (expDf.time == secondTime)]['fullFile']\n",
    "    \n",
    "    firstFile = path.join(firstFile.values[0],'exp.npy')\n",
    "    secondFile = path.join(secondFile.values[0],'exp.npy')\n",
    "    \n",
    "    print(firstFile)\n",
    "    print(secondFile)\n",
    "    firstExp = np.load(firstFile)[0]\n",
    "    secondExp = np.load(secondFile)[0]\n",
    "    \n",
    "    # Shortenning the experiments.\n",
    "    firstExp.trimExperiment(4500)\n",
    "    secondExp.trimExperiment(4500)\n",
    "        \n",
    "    print('Filtering tracks for anaylses..')\n",
    "    #firstExp._tracks = filterTracksForAnalyses(firstExp._tracks)\n",
    "    #secondExp._tracks = filterTracksForAnalyses(secondExp._tracks)\n",
    "\n",
    "    PairWiseRoi(firstCond, firstExp, secondCond, secondExp)\n",
    "    PairWiseProjectionDensity(firstCond, firstExp, secondCond, secondExp)\n",
    "    PairWiseSpeedDensity(firstCond, firstExp, secondCond, secondExp)\n",
    "    PairWiseOccupVisoulatizer(firstCond, firstExp, secondCond, secondExp)\n",
    "    #PairWiseRevDistances(firstCond, firstExp, secondCond, secondExp)\n",
    "    \n",
    "\n",
    "# Run button\n",
    "runButton = widgets.Button(description=\"Run\")\n",
    "runButton.on_click(runAnalysis)\n",
    "\n",
    "def on_cond_value_change1(*change):        \n",
    "    dateWidget1.options = pd.unique(expDf[expDf['cond'] == condWidget1.value]['date'])\n",
    "    timeWidget1.options = pd.unique(expDf[expDf['cond'] == condWidget1.value]['time'])\n",
    "    \n",
    "def on_date_value_change1(*change):\n",
    "    timeWidget1.options = expDf[(expDf['cond'] == condWidget1.value) & (expDf['date'] == dateWidget1.value) ]['time']\n",
    "    \n",
    "def on_cond_value_change2(*change):        \n",
    "    dateWidget2.options = pd.unique(expDf[expDf['cond'] == condWidget2.value]['date'])\n",
    "    timeWidget2.options = pd.unique(expDf[expDf['cond'] == condWidget2.value]['time'])\n",
    "\n",
    "def on_date_value_change2(*change):\n",
    "    timeWidget2.options = expDf[(expDf['cond'] == condWidget2.value) & (expDf['date'] == dateWidget2.value) ]['time']\n",
    "\n",
    "condWidget1.observe(on_cond_value_change1, names='value')\n",
    "dateWidget1.observe(on_date_value_change1, names='value')\n",
    "condWidget2.observe(on_cond_value_change2, names='value')\n",
    "dateWidget2.observe(on_date_value_change2, names='value')\n",
    "\n",
    "# Display layout\n",
    "HBox([VBox([condWidget1, dateWidget1, timeWidget1]), VBox([condWidget2, dateWidget2, timeWidget2]), runButton])"
   ]
  },
  {
   "cell_type": "markdown",
   "metadata": {},
   "source": [
    "# Create Pair Movie\n"
   ]
  },
  {
   "cell_type": "code",
   "execution_count": 2,
   "metadata": {},
   "outputs": [
    {
     "name": "stdout",
     "output_type": "stream",
     "text": [
      "Reinitializing.\n",
      "Reinitializing.\n",
      "Trimming Experiment to 3653 frames.\n",
      "Trimming Experiment to 3709 frames.\n",
      "Allocating space.\n",
      "Filtering tracks. Before 25486, After: 15123\n",
      "Allocating space.\n",
      "Filtering tracks. Before 35757, After: 22672\n",
      "Processed Frame 3649 / 3652"
     ]
    },
    {
     "ename": "AxisError",
     "evalue": "axis 1 is out of bounds for array of dimension 0",
     "output_type": "error",
     "traceback": [
      "\u001b[0;31m---------------------------------------------------------------------------\u001b[0m",
      "\u001b[0;31mAxisError\u001b[0m                                 Traceback (most recent call last)",
      "\u001b[0;32m<ipython-input-2-4b5b4523d1fc>\u001b[0m in \u001b[0;36m<module>\u001b[0;34m\u001b[0m\n\u001b[1;32m     11\u001b[0m \u001b[0mexpPair\u001b[0m\u001b[0;34m.\u001b[0m\u001b[0m_secondExp\u001b[0m\u001b[0;34m.\u001b[0m\u001b[0mtrimExperiment\u001b[0m\u001b[0;34m(\u001b[0m\u001b[0;36m4501\u001b[0m\u001b[0;34m)\u001b[0m\u001b[0;34m\u001b[0m\u001b[0;34m\u001b[0m\u001b[0m\n\u001b[1;32m     12\u001b[0m \u001b[0;34m\u001b[0m\u001b[0m\n\u001b[0;32m---> 13\u001b[0;31m \u001b[0mexpPair\u001b[0m\u001b[0;34m.\u001b[0m\u001b[0mcreatePairVisualization\u001b[0m\u001b[0;34m(\u001b[0m\u001b[0;36m4500\u001b[0m\u001b[0;34m,\u001b[0m \u001b[0mdpi\u001b[0m\u001b[0;34m=\u001b[0m\u001b[0;36m250\u001b[0m\u001b[0;34m)\u001b[0m\u001b[0;34m\u001b[0m\u001b[0;34m\u001b[0m\u001b[0m\n\u001b[0m",
      "\u001b[0;32m~/Dropbox/workspace/lab/DeepSemantic/WormSegmentation/Behavior/General/ExpPair.py\u001b[0m in \u001b[0;36mcreatePairVisualization\u001b[0;34m(self, numberOfFrames, dpi)\u001b[0m\n\u001b[1;32m    197\u001b[0m \u001b[0;34m\u001b[0m\u001b[0m\n\u001b[1;32m    198\u001b[0m         \u001b[0manim\u001b[0m \u001b[0;34m=\u001b[0m \u001b[0mFuncAnimation\u001b[0m\u001b[0;34m(\u001b[0m\u001b[0mfig\u001b[0m\u001b[0;34m,\u001b[0m \u001b[0mupdateMovie\u001b[0m\u001b[0;34m,\u001b[0m \u001b[0mframes\u001b[0m\u001b[0;34m=\u001b[0m\u001b[0mrange\u001b[0m\u001b[0;34m(\u001b[0m\u001b[0mframeLength\u001b[0m \u001b[0;34m-\u001b[0m \u001b[0;36m1\u001b[0m\u001b[0;34m)\u001b[0m\u001b[0;34m,\u001b[0m \u001b[0minit_func\u001b[0m\u001b[0;34m=\u001b[0m\u001b[0;32mlambda\u001b[0m\u001b[0;34m:\u001b[0m \u001b[0mupdateMovie\u001b[0m\u001b[0;34m(\u001b[0m\u001b[0;34m-\u001b[0m\u001b[0;36m1\u001b[0m\u001b[0;34m)\u001b[0m\u001b[0;34m)\u001b[0m\u001b[0;34m\u001b[0m\u001b[0;34m\u001b[0m\u001b[0m\n\u001b[0;32m--> 199\u001b[0;31m         \u001b[0manim\u001b[0m\u001b[0;34m.\u001b[0m\u001b[0msave\u001b[0m\u001b[0;34m(\u001b[0m\u001b[0mpath\u001b[0m\u001b[0;34m.\u001b[0m\u001b[0mjoin\u001b[0m\u001b[0;34m(\u001b[0m\u001b[0mself\u001b[0m\u001b[0;34m.\u001b[0m\u001b[0m_targetPath\u001b[0m\u001b[0;34m,\u001b[0m \u001b[0;34m'exp_pair_vis.mp4'\u001b[0m\u001b[0;34m)\u001b[0m\u001b[0;34m,\u001b[0m \u001b[0mfps\u001b[0m\u001b[0;34m=\u001b[0m\u001b[0;36m40\u001b[0m\u001b[0;34m,\u001b[0m \u001b[0mextra_args\u001b[0m\u001b[0;34m=\u001b[0m\u001b[0;34m[\u001b[0m\u001b[0;34m'-vcodec'\u001b[0m\u001b[0;34m,\u001b[0m \u001b[0;34m'libx264'\u001b[0m\u001b[0;34m]\u001b[0m\u001b[0;34m,\u001b[0m \u001b[0mdpi\u001b[0m\u001b[0;34m=\u001b[0m\u001b[0mdpi\u001b[0m\u001b[0;34m)\u001b[0m\u001b[0;34m\u001b[0m\u001b[0;34m\u001b[0m\u001b[0m\n\u001b[0m\u001b[1;32m    200\u001b[0m         \u001b[0;31m#plt.show()\u001b[0m\u001b[0;34m\u001b[0m\u001b[0;34m\u001b[0m\u001b[0;34m\u001b[0m\u001b[0m\n\u001b[1;32m    201\u001b[0m \u001b[0;34m\u001b[0m\u001b[0m\n",
      "\u001b[0;32m~/Dropbox/workspace/homework/NeuralNetworks/venv/lib/python3.6/site-packages/matplotlib/animation.py\u001b[0m in \u001b[0;36msave\u001b[0;34m(self, filename, writer, fps, dpi, codec, bitrate, extra_args, metadata, extra_anim, savefig_kwargs)\u001b[0m\n\u001b[1;32m   1171\u001b[0m                     \u001b[0;32mfor\u001b[0m \u001b[0manim\u001b[0m\u001b[0;34m,\u001b[0m \u001b[0md\u001b[0m \u001b[0;32min\u001b[0m \u001b[0mzip\u001b[0m\u001b[0;34m(\u001b[0m\u001b[0mall_anim\u001b[0m\u001b[0;34m,\u001b[0m \u001b[0mdata\u001b[0m\u001b[0;34m)\u001b[0m\u001b[0;34m:\u001b[0m\u001b[0;34m\u001b[0m\u001b[0;34m\u001b[0m\u001b[0m\n\u001b[1;32m   1172\u001b[0m                         \u001b[0;31m# TODO: See if turning off blit is really necessary\u001b[0m\u001b[0;34m\u001b[0m\u001b[0;34m\u001b[0m\u001b[0;34m\u001b[0m\u001b[0m\n\u001b[0;32m-> 1173\u001b[0;31m                         \u001b[0manim\u001b[0m\u001b[0;34m.\u001b[0m\u001b[0m_draw_next_frame\u001b[0m\u001b[0;34m(\u001b[0m\u001b[0md\u001b[0m\u001b[0;34m,\u001b[0m \u001b[0mblit\u001b[0m\u001b[0;34m=\u001b[0m\u001b[0;32mFalse\u001b[0m\u001b[0;34m)\u001b[0m\u001b[0;34m\u001b[0m\u001b[0;34m\u001b[0m\u001b[0m\n\u001b[0m\u001b[1;32m   1174\u001b[0m                     \u001b[0mwriter\u001b[0m\u001b[0;34m.\u001b[0m\u001b[0mgrab_frame\u001b[0m\u001b[0;34m(\u001b[0m\u001b[0;34m**\u001b[0m\u001b[0msavefig_kwargs\u001b[0m\u001b[0;34m)\u001b[0m\u001b[0;34m\u001b[0m\u001b[0;34m\u001b[0m\u001b[0m\n\u001b[1;32m   1175\u001b[0m \u001b[0;34m\u001b[0m\u001b[0m\n",
      "\u001b[0;32m~/Dropbox/workspace/homework/NeuralNetworks/venv/lib/python3.6/site-packages/matplotlib/animation.py\u001b[0m in \u001b[0;36m_draw_next_frame\u001b[0;34m(self, framedata, blit)\u001b[0m\n\u001b[1;32m   1208\u001b[0m         \u001b[0;31m# post- draw, as well as the drawing of the frame itself.\u001b[0m\u001b[0;34m\u001b[0m\u001b[0;34m\u001b[0m\u001b[0;34m\u001b[0m\u001b[0m\n\u001b[1;32m   1209\u001b[0m         \u001b[0mself\u001b[0m\u001b[0;34m.\u001b[0m\u001b[0m_pre_draw\u001b[0m\u001b[0;34m(\u001b[0m\u001b[0mframedata\u001b[0m\u001b[0;34m,\u001b[0m \u001b[0mblit\u001b[0m\u001b[0;34m)\u001b[0m\u001b[0;34m\u001b[0m\u001b[0;34m\u001b[0m\u001b[0m\n\u001b[0;32m-> 1210\u001b[0;31m         \u001b[0mself\u001b[0m\u001b[0;34m.\u001b[0m\u001b[0m_draw_frame\u001b[0m\u001b[0;34m(\u001b[0m\u001b[0mframedata\u001b[0m\u001b[0;34m)\u001b[0m\u001b[0;34m\u001b[0m\u001b[0;34m\u001b[0m\u001b[0m\n\u001b[0m\u001b[1;32m   1211\u001b[0m         \u001b[0mself\u001b[0m\u001b[0;34m.\u001b[0m\u001b[0m_post_draw\u001b[0m\u001b[0;34m(\u001b[0m\u001b[0mframedata\u001b[0m\u001b[0;34m,\u001b[0m \u001b[0mblit\u001b[0m\u001b[0;34m)\u001b[0m\u001b[0;34m\u001b[0m\u001b[0;34m\u001b[0m\u001b[0m\n\u001b[1;32m   1212\u001b[0m \u001b[0;34m\u001b[0m\u001b[0m\n",
      "\u001b[0;32m~/Dropbox/workspace/homework/NeuralNetworks/venv/lib/python3.6/site-packages/matplotlib/animation.py\u001b[0m in \u001b[0;36m_draw_frame\u001b[0;34m(self, framedata)\u001b[0m\n\u001b[1;32m   1760\u001b[0m         \u001b[0;31m# Call the func with framedata and args. If blitting is desired,\u001b[0m\u001b[0;34m\u001b[0m\u001b[0;34m\u001b[0m\u001b[0;34m\u001b[0m\u001b[0m\n\u001b[1;32m   1761\u001b[0m         \u001b[0;31m# func needs to return a sequence of any artists that were modified.\u001b[0m\u001b[0;34m\u001b[0m\u001b[0;34m\u001b[0m\u001b[0;34m\u001b[0m\u001b[0m\n\u001b[0;32m-> 1762\u001b[0;31m         \u001b[0mself\u001b[0m\u001b[0;34m.\u001b[0m\u001b[0m_drawn_artists\u001b[0m \u001b[0;34m=\u001b[0m \u001b[0mself\u001b[0m\u001b[0;34m.\u001b[0m\u001b[0m_func\u001b[0m\u001b[0;34m(\u001b[0m\u001b[0mframedata\u001b[0m\u001b[0;34m,\u001b[0m \u001b[0;34m*\u001b[0m\u001b[0mself\u001b[0m\u001b[0;34m.\u001b[0m\u001b[0m_args\u001b[0m\u001b[0;34m)\u001b[0m\u001b[0;34m\u001b[0m\u001b[0;34m\u001b[0m\u001b[0m\n\u001b[0m\u001b[1;32m   1763\u001b[0m         \u001b[0;32mif\u001b[0m \u001b[0mself\u001b[0m\u001b[0;34m.\u001b[0m\u001b[0m_blit\u001b[0m\u001b[0;34m:\u001b[0m\u001b[0;34m\u001b[0m\u001b[0;34m\u001b[0m\u001b[0m\n\u001b[1;32m   1764\u001b[0m             \u001b[0;32mif\u001b[0m \u001b[0mself\u001b[0m\u001b[0;34m.\u001b[0m\u001b[0m_drawn_artists\u001b[0m \u001b[0;32mis\u001b[0m \u001b[0;32mNone\u001b[0m\u001b[0;34m:\u001b[0m\u001b[0;34m\u001b[0m\u001b[0;34m\u001b[0m\u001b[0m\n",
      "\u001b[0;32m~/Dropbox/workspace/lab/DeepSemantic/WormSegmentation/Behavior/General/ExpPair.py\u001b[0m in \u001b[0;36mupdateMovie\u001b[0;34m(frameNum)\u001b[0m\n\u001b[1;32m    121\u001b[0m                 \u001b[0msecondAlign\u001b[0m \u001b[0;34m=\u001b[0m \u001b[0mself\u001b[0m\u001b[0;34m.\u001b[0m\u001b[0malignImage\u001b[0m\u001b[0;34m(\u001b[0m\u001b[0msecondFrame\u001b[0m\u001b[0;34m)\u001b[0m\u001b[0;34m\u001b[0m\u001b[0;34m\u001b[0m\u001b[0m\n\u001b[1;32m    122\u001b[0m \u001b[0;34m\u001b[0m\u001b[0m\n\u001b[0;32m--> 123\u001b[0;31m             \u001b[0mfirstFrame\u001b[0m \u001b[0;34m=\u001b[0m \u001b[0mnp\u001b[0m\u001b[0;34m.\u001b[0m\u001b[0mroll\u001b[0m\u001b[0;34m(\u001b[0m\u001b[0mfirstFrame\u001b[0m\u001b[0;34m,\u001b[0m \u001b[0;34m+\u001b[0m\u001b[0mfirstAlign\u001b[0m\u001b[0;34m,\u001b[0m \u001b[0maxis\u001b[0m\u001b[0;34m=\u001b[0m\u001b[0;36m1\u001b[0m\u001b[0;34m)\u001b[0m\u001b[0;34m\u001b[0m\u001b[0;34m\u001b[0m\u001b[0m\n\u001b[0m\u001b[1;32m    124\u001b[0m             \u001b[0msecondFrame\u001b[0m \u001b[0;34m=\u001b[0m \u001b[0mnp\u001b[0m\u001b[0;34m.\u001b[0m\u001b[0mroll\u001b[0m\u001b[0;34m(\u001b[0m\u001b[0msecondFrame\u001b[0m\u001b[0;34m,\u001b[0m \u001b[0;34m+\u001b[0m\u001b[0msecondAlign\u001b[0m\u001b[0;34m,\u001b[0m \u001b[0maxis\u001b[0m\u001b[0;34m=\u001b[0m\u001b[0;36m1\u001b[0m\u001b[0;34m)\u001b[0m\u001b[0;34m\u001b[0m\u001b[0;34m\u001b[0m\u001b[0m\n\u001b[1;32m    125\u001b[0m \u001b[0;34m\u001b[0m\u001b[0m\n",
      "\u001b[0;32m~/Dropbox/workspace/homework/NeuralNetworks/venv/lib/python3.6/site-packages/numpy/core/numeric.py\u001b[0m in \u001b[0;36mroll\u001b[0;34m(a, shift, axis)\u001b[0m\n\u001b[1;32m   1380\u001b[0m \u001b[0;34m\u001b[0m\u001b[0m\n\u001b[1;32m   1381\u001b[0m     \u001b[0;32melse\u001b[0m\u001b[0;34m:\u001b[0m\u001b[0;34m\u001b[0m\u001b[0;34m\u001b[0m\u001b[0m\n\u001b[0;32m-> 1382\u001b[0;31m         \u001b[0maxis\u001b[0m \u001b[0;34m=\u001b[0m \u001b[0mnormalize_axis_tuple\u001b[0m\u001b[0;34m(\u001b[0m\u001b[0maxis\u001b[0m\u001b[0;34m,\u001b[0m \u001b[0ma\u001b[0m\u001b[0;34m.\u001b[0m\u001b[0mndim\u001b[0m\u001b[0;34m,\u001b[0m \u001b[0mallow_duplicate\u001b[0m\u001b[0;34m=\u001b[0m\u001b[0;32mTrue\u001b[0m\u001b[0;34m)\u001b[0m\u001b[0;34m\u001b[0m\u001b[0;34m\u001b[0m\u001b[0m\n\u001b[0m\u001b[1;32m   1383\u001b[0m         \u001b[0mbroadcasted\u001b[0m \u001b[0;34m=\u001b[0m \u001b[0mbroadcast\u001b[0m\u001b[0;34m(\u001b[0m\u001b[0mshift\u001b[0m\u001b[0;34m,\u001b[0m \u001b[0maxis\u001b[0m\u001b[0;34m)\u001b[0m\u001b[0;34m\u001b[0m\u001b[0;34m\u001b[0m\u001b[0m\n\u001b[1;32m   1384\u001b[0m         \u001b[0;32mif\u001b[0m \u001b[0mbroadcasted\u001b[0m\u001b[0;34m.\u001b[0m\u001b[0mndim\u001b[0m \u001b[0;34m>\u001b[0m \u001b[0;36m1\u001b[0m\u001b[0;34m:\u001b[0m\u001b[0;34m\u001b[0m\u001b[0;34m\u001b[0m\u001b[0m\n",
      "\u001b[0;32m~/Dropbox/workspace/homework/NeuralNetworks/venv/lib/python3.6/site-packages/numpy/core/numeric.py\u001b[0m in \u001b[0;36mnormalize_axis_tuple\u001b[0;34m(axis, ndim, argname, allow_duplicate)\u001b[0m\n\u001b[1;32m   1513\u001b[0m     \u001b[0;32mexcept\u001b[0m \u001b[0mTypeError\u001b[0m\u001b[0;34m:\u001b[0m\u001b[0;34m\u001b[0m\u001b[0;34m\u001b[0m\u001b[0m\n\u001b[1;32m   1514\u001b[0m         \u001b[0maxis\u001b[0m \u001b[0;34m=\u001b[0m \u001b[0mtuple\u001b[0m\u001b[0;34m(\u001b[0m\u001b[0maxis\u001b[0m\u001b[0;34m)\u001b[0m\u001b[0;34m\u001b[0m\u001b[0;34m\u001b[0m\u001b[0m\n\u001b[0;32m-> 1515\u001b[0;31m     \u001b[0maxis\u001b[0m \u001b[0;34m=\u001b[0m \u001b[0mtuple\u001b[0m\u001b[0;34m(\u001b[0m\u001b[0mnormalize_axis_index\u001b[0m\u001b[0;34m(\u001b[0m\u001b[0max\u001b[0m\u001b[0;34m,\u001b[0m \u001b[0mndim\u001b[0m\u001b[0;34m,\u001b[0m \u001b[0margname\u001b[0m\u001b[0;34m)\u001b[0m \u001b[0;32mfor\u001b[0m \u001b[0max\u001b[0m \u001b[0;32min\u001b[0m \u001b[0maxis\u001b[0m\u001b[0;34m)\u001b[0m\u001b[0;34m\u001b[0m\u001b[0;34m\u001b[0m\u001b[0m\n\u001b[0m\u001b[1;32m   1516\u001b[0m     \u001b[0;32mif\u001b[0m \u001b[0;32mnot\u001b[0m \u001b[0mallow_duplicate\u001b[0m \u001b[0;32mand\u001b[0m \u001b[0mlen\u001b[0m\u001b[0;34m(\u001b[0m\u001b[0mset\u001b[0m\u001b[0;34m(\u001b[0m\u001b[0maxis\u001b[0m\u001b[0;34m)\u001b[0m\u001b[0;34m)\u001b[0m \u001b[0;34m!=\u001b[0m \u001b[0mlen\u001b[0m\u001b[0;34m(\u001b[0m\u001b[0maxis\u001b[0m\u001b[0;34m)\u001b[0m\u001b[0;34m:\u001b[0m\u001b[0;34m\u001b[0m\u001b[0;34m\u001b[0m\u001b[0m\n\u001b[1;32m   1517\u001b[0m         \u001b[0;32mif\u001b[0m \u001b[0margname\u001b[0m\u001b[0;34m:\u001b[0m\u001b[0;34m\u001b[0m\u001b[0;34m\u001b[0m\u001b[0m\n",
      "\u001b[0;32m~/Dropbox/workspace/homework/NeuralNetworks/venv/lib/python3.6/site-packages/numpy/core/numeric.py\u001b[0m in \u001b[0;36m<genexpr>\u001b[0;34m(.0)\u001b[0m\n\u001b[1;32m   1513\u001b[0m     \u001b[0;32mexcept\u001b[0m \u001b[0mTypeError\u001b[0m\u001b[0;34m:\u001b[0m\u001b[0;34m\u001b[0m\u001b[0;34m\u001b[0m\u001b[0m\n\u001b[1;32m   1514\u001b[0m         \u001b[0maxis\u001b[0m \u001b[0;34m=\u001b[0m \u001b[0mtuple\u001b[0m\u001b[0;34m(\u001b[0m\u001b[0maxis\u001b[0m\u001b[0;34m)\u001b[0m\u001b[0;34m\u001b[0m\u001b[0;34m\u001b[0m\u001b[0m\n\u001b[0;32m-> 1515\u001b[0;31m     \u001b[0maxis\u001b[0m \u001b[0;34m=\u001b[0m \u001b[0mtuple\u001b[0m\u001b[0;34m(\u001b[0m\u001b[0mnormalize_axis_index\u001b[0m\u001b[0;34m(\u001b[0m\u001b[0max\u001b[0m\u001b[0;34m,\u001b[0m \u001b[0mndim\u001b[0m\u001b[0;34m,\u001b[0m \u001b[0margname\u001b[0m\u001b[0;34m)\u001b[0m \u001b[0;32mfor\u001b[0m \u001b[0max\u001b[0m \u001b[0;32min\u001b[0m \u001b[0maxis\u001b[0m\u001b[0;34m)\u001b[0m\u001b[0;34m\u001b[0m\u001b[0;34m\u001b[0m\u001b[0m\n\u001b[0m\u001b[1;32m   1516\u001b[0m     \u001b[0;32mif\u001b[0m \u001b[0;32mnot\u001b[0m \u001b[0mallow_duplicate\u001b[0m \u001b[0;32mand\u001b[0m \u001b[0mlen\u001b[0m\u001b[0;34m(\u001b[0m\u001b[0mset\u001b[0m\u001b[0;34m(\u001b[0m\u001b[0maxis\u001b[0m\u001b[0;34m)\u001b[0m\u001b[0;34m)\u001b[0m \u001b[0;34m!=\u001b[0m \u001b[0mlen\u001b[0m\u001b[0;34m(\u001b[0m\u001b[0maxis\u001b[0m\u001b[0;34m)\u001b[0m\u001b[0;34m:\u001b[0m\u001b[0;34m\u001b[0m\u001b[0;34m\u001b[0m\u001b[0m\n\u001b[1;32m   1517\u001b[0m         \u001b[0;32mif\u001b[0m \u001b[0margname\u001b[0m\u001b[0;34m:\u001b[0m\u001b[0;34m\u001b[0m\u001b[0;34m\u001b[0m\u001b[0m\n",
      "\u001b[0;31mAxisError\u001b[0m: axis 1 is out of bounds for array of dimension 0"
     ]
    }
   ],
   "source": [
    "import sys\n",
    "sys.path.append('/home/itskov/workspace/lab/DeepSemantic/WormSegmentation')\n",
    "\n",
    "\n",
    "from Behavior.General.ExpPair import ExpPair\n",
    "\n",
    "expPair = ExpPair('/home/itskov/Temp/behav/05-Dec-2019/STAP.avi_12.13.59/exp.npy', \n",
    "                  '/home/itskov/Temp/behav/05-Dec-2019/MOCK_STAP.avi_12.13.37/exp.npy')\n",
    "\n",
    "expPair._firstExp.trimExperiment(4501)\n",
    "expPair._secondExp.trimExperiment(4501)\n",
    "\n",
    "expPair.createPairVisualization(4500, dpi=250)"
   ]
  },
  {
   "cell_type": "markdown",
   "metadata": {},
   "source": [
    "# Create ROI Artifact"
   ]
  },
  {
   "cell_type": "code",
   "execution_count": null,
   "metadata": {},
   "outputs": [],
   "source": [
    "import sys\n",
    "sys.path.append('/home/itskov/workspace/lab/DeepSemantic/WormSegmentation')\n",
    "\n",
    "\n",
    "from pathlib import Path\n",
    "from os import path\n",
    "from Behavior.Tools.Artifacts import Artifacts\n",
    "from Behavior.Visualiz\n",
    "\n",
    "import numpy as np\n",
    "\n",
    "rootDir = '/mnt/storageNASRe/tph1/Results/19-Nov-2019/'\n",
    "\n",
    "for fileName in Path(rootDir).rglob('exp.npy'):\n",
    "    print(fileName)\n",
    "            \n",
    "    # load experiment.\n",
    "    exp = np.load(fileName)[0]\n",
    "    \n",
    "    # Create an artifact folder.\n",
    "    art = Artifacts(exp)\n",
    "    \n",
    "    exp\n",
    "    \n",
    "    \n",
    "        \n",
    "    "
   ]
  },
  {
   "cell_type": "markdown",
   "metadata": {},
   "source": [
    "# Re-Initialize Experiemnt in a new Location"
   ]
  },
  {
   "cell_type": "code",
   "execution_count": 5,
   "metadata": {},
   "outputs": [
    {
     "name": "stdout",
     "output_type": "stream",
     "text": [
      "Reinitializing.\n",
      "{'startReg': {'pos': (1056.1233766233763, 2095.0844155844156), 'rad': 231.40626942259428}, 'endReg': {'pos': (952.2272727272725, 941.8376623376622), 'rad': 289.25783677824285}}\n",
      "Initializing Experiment with dir: /home/itskov/Temp/behav/28-Nov-2019/TPH_1_NO_ATR_TRAIN_NO_IAA3x5.avi_17.13.10 and with 37743 tracks\n",
      "{'startReg': {'pos': (1056.1233766233763, 2095.0844155844156), 'rad': 231.40626942259428}, 'endReg': {'pos': (952.2272727272725, 941.8376623376622), 'rad': 289.25783677824285}}\n",
      "Saving..\n"
     ]
    },
    {
     "data": {
      "text/plain": [
       "'DIR = \\'/mnt/storageNASRe/tph1/Results/28-Nov-2019/\\'\\n\\nglobPath = DIR + \\'**/exp.npy\\'\\nprint(globPath)\\nexpFiles = glob(globPath)\\n\\nfor i,expFile in enumerate(expFiles):\\n    print(\"Gover over %s\" %  (expFile,))\\n    currentExp = np.load(expFile)[0]\\n    expDir = currentExp.initialize(ExpDir(path.dirname(expFile)))\\n    print(\\'Saving..\\')\\n    currentExp.save()\\n    print(\\'Done.\\')\\n    '"
      ]
     },
     "execution_count": 5,
     "metadata": {},
     "output_type": "execute_result"
    }
   ],
   "source": [
    "import sys\n",
    "sys.path.append('/home/itskov/workspace/lab/DeepSemantic/WormSegmentation')\n",
    "\n",
    "import numpy as np\n",
    "\n",
    "from os import path\n",
    "from Behavior.General.ExpDir import ExpDir\n",
    "from glob import glob\n",
    "\n",
    "expFile = '/home/itskov/Temp/behav/28-Nov-2019/TPH_1_NO_ATR_TRAIN_NO_IAA3x5.avi_17.13.10/exp.npy'\n",
    "currentExp = np.load(expFile)[0]\n",
    "expDir = currentExp.initialize(ExpDir(path.dirname(expFile)))\n",
    "print('Saving..')\n",
    "currentExp.save()\n",
    "\n",
    "\n",
    "'''DIR = '/mnt/storageNASRe/tph1/Results/28-Nov-2019/'\n",
    "\n",
    "globPath = DIR + '**/exp.npy'\n",
    "print(globPath)\n",
    "expFiles = glob(globPath)\n",
    "\n",
    "for i,expFile in enumerate(expFiles):\n",
    "    print(\"Gover over %s\" %  (expFile,))\n",
    "    currentExp = np.load(expFile)[0]\n",
    "    expDir = currentExp.initialize(ExpDir(path.dirname(expFile)))\n",
    "    print('Saving..')\n",
    "    currentExp.save()\n",
    "    print('Done.')\n",
    "    '''\n",
    "    \n",
    "    "
   ]
  }
 ],
 "metadata": {
  "kernelspec": {
   "display_name": "Python 3",
   "language": "python",
   "name": "python3"
  },
  "language_info": {
   "codemirror_mode": {
    "name": "ipython",
    "version": 3
   },
   "file_extension": ".py",
   "mimetype": "text/x-python",
   "name": "python",
   "nbconvert_exporter": "python",
   "pygments_lexer": "ipython3",
   "version": "3.6.6"
  }
 },
 "nbformat": 4,
 "nbformat_minor": 4
}
