{
 "cells": [
  {
   "cell_type": "markdown",
   "metadata": {},
   "source": [
    "# First make sure all the files are ready for analysis"
   ]
  },
  {
   "cell_type": "code",
   "execution_count": 4,
   "metadata": {},
   "outputs": [
    {
     "name": "stdout",
     "output_type": "stream",
     "text": [
      "Starting..\n",
      "Going over /home/itskov/Temp/12-Sep-2019/TPH_1_ATR_TRAIN_IAA3.avi_16.35.13\n",
      "Going over /home/itskov/Temp/12-Sep-2019/TPH_1_NO_ATR_TRAIN_IAA3.avi_19.25.48\n",
      "Going over /home/itskov/Temp/12-Sep-2019/TPH_1_ATR_TRAIN_IAA3.avi_19.26.30\n",
      "Going over /home/itskov/Temp/12-Sep-2019/TPH_1_ATR_TRAIN_IAA3.avi_12.14.20\n",
      "Going over /home/itskov/Temp/12-Sep-2019/TPH_1_NO_ATR_TRAIN_IAA3.avi_16.35.58\n",
      "Going over /home/itskov/Temp/12-Sep-2019/TPH_1_NO_ATR_TRAIN_IAA3.avi_12.13.37\n"
     ]
    },
    {
     "data": {
      "text/html": [
       "<div>\n",
       "<style scoped>\n",
       "    .dataframe tbody tr th:only-of-type {\n",
       "        vertical-align: middle;\n",
       "    }\n",
       "\n",
       "    .dataframe tbody tr th {\n",
       "        vertical-align: top;\n",
       "    }\n",
       "\n",
       "    .dataframe thead th {\n",
       "        text-align: right;\n",
       "    }\n",
       "</style>\n",
       "<table border=\"1\" class=\"dataframe\">\n",
       "  <thead>\n",
       "    <tr style=\"text-align: right;\">\n",
       "      <th></th>\n",
       "      <th>date</th>\n",
       "      <th>time</th>\n",
       "      <th>cond</th>\n",
       "      <th>fullFile</th>\n",
       "    </tr>\n",
       "  </thead>\n",
       "  <tbody>\n",
       "    <tr>\n",
       "      <th>0</th>\n",
       "      <td>12-Sep-2019</td>\n",
       "      <td>16.35.13</td>\n",
       "      <td>TPH_1_ATR_TRAIN_IAA3</td>\n",
       "      <td>/home/itskov/Temp/12-Sep-2019/TPH_1_ATR_TRAIN_...</td>\n",
       "    </tr>\n",
       "    <tr>\n",
       "      <th>1</th>\n",
       "      <td>12-Sep-2019</td>\n",
       "      <td>19.25.48</td>\n",
       "      <td>TPH_1_NO_ATR_TRAIN_IAA3</td>\n",
       "      <td>/home/itskov/Temp/12-Sep-2019/TPH_1_NO_ATR_TRA...</td>\n",
       "    </tr>\n",
       "    <tr>\n",
       "      <th>2</th>\n",
       "      <td>12-Sep-2019</td>\n",
       "      <td>19.26.30</td>\n",
       "      <td>TPH_1_ATR_TRAIN_IAA3</td>\n",
       "      <td>/home/itskov/Temp/12-Sep-2019/TPH_1_ATR_TRAIN_...</td>\n",
       "    </tr>\n",
       "    <tr>\n",
       "      <th>3</th>\n",
       "      <td>12-Sep-2019</td>\n",
       "      <td>12.14.20</td>\n",
       "      <td>TPH_1_ATR_TRAIN_IAA3</td>\n",
       "      <td>/home/itskov/Temp/12-Sep-2019/TPH_1_ATR_TRAIN_...</td>\n",
       "    </tr>\n",
       "    <tr>\n",
       "      <th>4</th>\n",
       "      <td>12-Sep-2019</td>\n",
       "      <td>16.35.58</td>\n",
       "      <td>TPH_1_NO_ATR_TRAIN_IAA3</td>\n",
       "      <td>/home/itskov/Temp/12-Sep-2019/TPH_1_NO_ATR_TRA...</td>\n",
       "    </tr>\n",
       "    <tr>\n",
       "      <th>5</th>\n",
       "      <td>12-Sep-2019</td>\n",
       "      <td>12.13.37</td>\n",
       "      <td>TPH_1_NO_ATR_TRAIN_IAA3</td>\n",
       "      <td>/home/itskov/Temp/12-Sep-2019/TPH_1_NO_ATR_TRA...</td>\n",
       "    </tr>\n",
       "  </tbody>\n",
       "</table>\n",
       "</div>"
      ],
      "text/plain": [
       "          date      time                     cond  \\\n",
       "0  12-Sep-2019  16.35.13     TPH_1_ATR_TRAIN_IAA3   \n",
       "1  12-Sep-2019  19.25.48  TPH_1_NO_ATR_TRAIN_IAA3   \n",
       "2  12-Sep-2019  19.26.30     TPH_1_ATR_TRAIN_IAA3   \n",
       "3  12-Sep-2019  12.14.20     TPH_1_ATR_TRAIN_IAA3   \n",
       "4  12-Sep-2019  16.35.58  TPH_1_NO_ATR_TRAIN_IAA3   \n",
       "5  12-Sep-2019  12.13.37  TPH_1_NO_ATR_TRAIN_IAA3   \n",
       "\n",
       "                                            fullFile  \n",
       "0  /home/itskov/Temp/12-Sep-2019/TPH_1_ATR_TRAIN_...  \n",
       "1  /home/itskov/Temp/12-Sep-2019/TPH_1_NO_ATR_TRA...  \n",
       "2  /home/itskov/Temp/12-Sep-2019/TPH_1_ATR_TRAIN_...  \n",
       "3  /home/itskov/Temp/12-Sep-2019/TPH_1_ATR_TRAIN_...  \n",
       "4  /home/itskov/Temp/12-Sep-2019/TPH_1_NO_ATR_TRA...  \n",
       "5  /home/itskov/Temp/12-Sep-2019/TPH_1_NO_ATR_TRA...  "
      ]
     },
     "execution_count": 4,
     "metadata": {},
     "output_type": "execute_result"
    }
   ],
   "source": [
    "import sys\n",
    "\n",
    "sys.path.append('/home/itskov/workspace/lab/DeepSemantic/WormSegmentation')\n",
    "\n",
    "import matplotlib\n",
    "matplotlib.use('TkAgg')\n",
    "\n",
    "from glob2 import glob\n",
    "from Behavior.General.ExpDir import ExpDir\n",
    "from Behavior.General.Experiment import Experiment\n",
    "from os import listdir, path\n",
    "import pandas as pd\n",
    "\n",
    "\n",
    "# Debug (Temporary)\n",
    "from Behavior.General import Track\n",
    "sys.modules['Track'] = Track\n",
    "# Debug (Temporary)\n",
    "\n",
    "import numpy as np\n",
    "import re\n",
    "\n",
    "print('Starting..')\n",
    "\n",
    "# Here is where the tracked files are stored.\n",
    "rootDir = '/home/itskov/Temp/16-Sep-2019'\n",
    "allTrackedFiles = glob(rootDir + '/**/*tracks.npy')\n",
    "allTrackedDirectories = [path.dirname(tracksFile) for tracksFile in allTrackedFiles]\n",
    "\n",
    "# Here we store our experiments meta information\n",
    "expDf = pd.DataFrame(columns=['date','time', 'cond','fullFile'])\n",
    "\n",
    "for i, trackedDir in enumerate(allTrackedDirectories):\n",
    "    fullFile = path.join(rootDir, trackedDir)\n",
    "    print(\"Going over %s\" % fullFile)\n",
    "    \n",
    "    # This object helps us manage the tracked files.\n",
    "    expDir = ExpDir(str(fullFile))\n",
    "    \n",
    "    if expDir.getExpFile() == None:\n",
    "        newExp = Experiment(expDir.getVidFile(), np.load(expDir.getTracksFile()))\n",
    "        newExp.takeScale()\n",
    "        newExp.addCirclePotisionRad('startReg',newExp._scale / 3)\n",
    "        newExp.addCirclePotisionRad('endReg',newExp._scale / 4)\n",
    "        newExp.save()\n",
    "        pass\n",
    "    \n",
    "    currentDate = re.search('\\d\\d-\\w\\w\\w-\\d\\d\\d\\d',trackedDir)[0]\n",
    "    currentTime = re.search('_(\\d\\d\\.\\d\\d\\.\\d\\d)',path.basename(fullFile))[1]\n",
    "    cond = re.search('(.*)\\.avi',path.basename(fullFile))[1]\n",
    "    \n",
    "    # Irregularities\n",
    "    #if cond == 'STAP_Mock':\n",
    "    #    cond = 'MOCK_STAP'\n",
    "    #elif cond == 'LTAV_MOCK':\n",
    "    #    cond = 'MOCK_LTAV'\n",
    "    #elif cond == 'TEMP_EYAL_LIGHT':\n",
    "    #    continue\n",
    "    \n",
    "    expDf.loc[i] = [currentDate, currentTime, cond, fullFile]\n",
    "    #print('Date: ' + currentDate + ' Cond: ' + cond)\n",
    "expDf"
   ]
  },
  {
   "cell_type": "markdown",
   "metadata": {},
   "source": [
    "# Create a trajectories DataFrames"
   ]
  },
  {
   "cell_type": "code",
   "execution_count": 3,
   "metadata": {},
   "outputs": [],
   "source": [
    "def createDF(files):\n",
    "    for currentExpFile in files:\n",
    "        currentTracks = np.load(currentExpFile)[0]\n",
    "        "
   ]
  },
  {
   "cell_type": "markdown",
   "metadata": {},
   "source": [
    "# Show Pairwise projeciton density"
   ]
  },
  {
   "cell_type": "code",
   "execution_count": 2,
   "metadata": {},
   "outputs": [],
   "source": [
    "import seaborn as sns\n",
    "\n",
    "def showDensity(cond1, file1, cond2, file2):\n",
    "    seaborn.set()\n",
    "\n",
    "    firstDir = ExpDir(file1)\n",
    "    secondDir = ExpDir(file2)\n",
    "    \n",
    "    firstExp = np.load(firstDir.getExpFile())[0]\n",
    "    secondExp = np.load(secondDir.getExpFile())[0]\n",
    "    \n",
    "    firstTracks = [track.getMeanProjection(firstExp._regionsOfInterest['endReg']['pos']) for track in firstExp._tracks]\n",
    "    secondTracks = [track.getMeanProjection(secondExp._regionsOfInterest['endReg']['pos']) for track in secondExp._tracks]\n",
    "    \n",
    "    sns.distplot(firstTracks, hist = False, kde = True,\n",
    "                 kde_kws = {'linewidth': 3},\n",
    "                 label = cond1)\n",
    "    \n",
    "    "
   ]
  },
  {
   "cell_type": "code",
   "execution_count": 5,
   "metadata": {},
   "outputs": [
    {
     "data": {
      "application/vnd.jupyter.widget-view+json": {
       "model_id": "a7d96e23e1a246278e7926d2d88ed3b3",
       "version_major": 2,
       "version_minor": 0
      },
      "text/plain": [
       "Output()"
      ]
     },
     "metadata": {},
     "output_type": "display_data"
    },
    {
     "data": {
      "application/vnd.jupyter.widget-view+json": {
       "model_id": "df82b3453cb240ef9212c9ec617c1479",
       "version_major": 2,
       "version_minor": 0
      },
      "text/plain": [
       "HBox(children=(VBox(children=(Dropdown(description='Cond', options=('TPH_1_ATR_TRAIN_IAA3', 'TPH_1_NO_ATR_TRAI…"
      ]
     },
     "metadata": {},
     "output_type": "display_data"
    }
   ],
   "source": [
    "\n",
    "import ipywidgets as widgets\n",
    "from ipywidgets import interact, interactive, fixed, interact_manual, widgets, VBox,HBox\n",
    "\n",
    "from Behavior.Visualizers.PairwiseAnalyses import PairWiseRoi\n",
    "from Behavior.Visualizers.PairwiseAnalyses import PairWiseProjectionDensity\n",
    "\n",
    "# First experiment widgets\n",
    "dateWidget1 = widgets.Dropdown(options=pd.unique(expDf['date']),value=expDf['date'][0], description='Date')\n",
    "condWidget1 = widgets.Dropdown(options=pd.unique(expDf['cond']),value=expDf['cond'][0], description='Cond')\n",
    "timeWidget1 = widgets.Dropdown(options=[], description='Time')\n",
    "\n",
    "# Second experiment widgets\n",
    "dateWidget2 = widgets.Dropdown(options=pd.unique(expDf['date']),value=expDf['date'][0], description='Date')\n",
    "condWidget2 = widgets.Dropdown(options=pd.unique(expDf['cond']),value=expDf['cond'][0], description='Cond')\n",
    "timeWidget2 = widgets.Dropdown(options=[], description='Time')\n",
    "\n",
    "out = widgets.Output()\n",
    "display(out)\n",
    "\n",
    "@out.capture()\n",
    "def runAnalysis(arg):\n",
    "    firstCond = condWidget1.value\n",
    "    firstDate = dateWidget1.value\n",
    "    firstTime = timeWidget1.value\n",
    "    secondCond = condWidget2.value\n",
    "    secondDate = dateWidget2.value\n",
    "    secondTime = timeWidget2.value\n",
    "    \n",
    "    firstFile = expDf[(expDf.cond == firstCond) & \n",
    "                      (expDf.date == firstDate) & \n",
    "                      (expDf.time == firstTime)]['fullFile']\n",
    "    \n",
    "    secondFile = expDf[(expDf.cond == secondCond) & \n",
    "                       (expDf.date == secondDate) & \n",
    "                       (expDf.time == secondTime)]['fullFile']\n",
    "    \n",
    "    firstFile = path.join(firstFile.values[0],'exp.npy')\n",
    "    secondFile = path.join(secondFile.values[0],'exp.npy')\n",
    "\n",
    "    PairWiseRoi(firstCond, np.load(firstFile)[0], secondCond, np.load(secondFile)[0])\n",
    "    PairWiseProjectionDensity(firstCond, np.load(firstFile)[0], secondCond, np.load(secondFile)[0])\n",
    "    \n",
    "\n",
    "# Run button\n",
    "runButton = widgets.Button(description=\"Run\")\n",
    "runButton.on_click(runAnalysis)\n",
    "\n",
    "def on_cond_value_change1(*change):        \n",
    "    dateWidget1.options = expDf[expDf['cond'] == condWidget1.value]['date']\n",
    "    timeWidget1.options = expDf[expDf['cond'] == condWidget1.value]['time']\n",
    "    \n",
    "def on_date_value_change1(*change):\n",
    "    timeWidget1.options = expDf[(expDf['cond'] == condWidget1.value) & (expDf['date'] == dateWidget1.value) ]['time']\n",
    "    \n",
    "def on_cond_value_change2(*change):        \n",
    "    dateWidget2.options = expDf[expDf['cond'] == condWidget2.value]['date']\n",
    "    timeWidget2.options = expDf[expDf['cond'] == condWidget2.value]['time']\n",
    "\n",
    "def on_date_value_change2(*change):\n",
    "    timeWidget2.options = expDf[(expDf['cond'] == condWidget2.value) & (expDf['date'] == dateWidget2.value) ]['time']\n",
    "\n",
    "condWidget1.observe(on_cond_value_change1, names='value')\n",
    "dateWidget1.observe(on_date_value_change1, names='value')\n",
    "condWidget2.observe(on_cond_value_change2, names='value')\n",
    "dateWidget2.observe(on_date_value_change2, names='value')\n",
    "\n",
    "# Display layout\n",
    "HBox([VBox([condWidget1, dateWidget1, timeWidget1]), VBox([condWidget2, dateWidget2, timeWidget2]), runButton])\n",
    "\n"
   ]
  },
  {
   "cell_type": "code",
   "execution_count": null,
   "metadata": {},
   "outputs": [],
   "source": []
  }
 ],
 "metadata": {
  "kernelspec": {
   "display_name": "Python 3",
   "language": "python",
   "name": "python3"
  },
  "language_info": {
   "codemirror_mode": {
    "name": "ipython",
    "version": 3
   },
   "file_extension": ".py",
   "mimetype": "text/x-python",
   "name": "python",
   "nbconvert_exporter": "python",
   "pygments_lexer": "ipython3",
   "version": "3.6.6"
  }
 },
 "nbformat": 4,
 "nbformat_minor": 4
}
