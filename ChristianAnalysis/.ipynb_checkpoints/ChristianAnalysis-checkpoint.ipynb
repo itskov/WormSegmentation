{
 "cells": [
  {
   "cell_type": "markdown",
   "metadata": {},
   "source": [
    "# First make sure all the files are ready for analysis"
   ]
  },
  {
   "cell_type": "code",
   "execution_count": null,
   "metadata": {},
   "outputs": [],
   "source": [
    "import sys\n",
    "sys.path.append('/home/itskov/workspace/lab/DeepSemantic/WormSegmentation')\n",
    "\n",
    "import matplotlib\n",
    "#matplotlib.use('TkAgg')\n",
    "\n",
    "from glob2 import glob\n",
    "from Behavior.General.ExpDir import ExpDir\n",
    "from Behavior.General.Experiment import Experiment\n",
    "from os import listdir, path\n",
    "import pandas as pd\n",
    "\n",
    "\n",
    "# Debug (Temporary)\n",
    "from Behavior.General import Track\n",
    "sys.modules['Track'] = Track\n",
    "# Debug (Temporary)\n",
    "\n",
    "import numpy as np\n",
    "import re\n",
    "\n",
    "print('Starting..')\n",
    "\n",
    "# Here is where the tracked files are stored.\n",
    "rootDir = '/home/itskov/Temp/behav/28-Nov-2019/'\n",
    "#rootDir = '/mnt/storageNASRe/ChristianData/ChrisNewTracks/'\n",
    "allTrackedFiles = glob(rootDir + '/**/*tracks.npy')\n",
    "allTrackedDirectories = [path.dirname(tracksFile) for tracksFile in allTrackedFiles]\n",
    "\n",
    "\n",
    "# Here we store our experiments meta information\n",
    "expDf = pd.DataFrame(columns=['date','time', 'cond','fullFile'])\n",
    "\n",
    "for i, trackedDir in enumerate(allTrackedDirectories):\n",
    "    fullFile = path.join(rootDir, trackedDir)\n",
    "    print(\"%d. Going over %s\" % (i, fullFile))\n",
    "    \n",
    "    # This object helps us manage the tracked files.\n",
    "    expDir = ExpDir(str(fullFile))\n",
    "    \n",
    "    #if True:\n",
    "    if (expDir.getExpFile() == None) or (not expDir.isValid()):\n",
    "        #newExp = Experiment(expDir.getVidFile(), np.load(expDir.getTracksFile()))\n",
    "        newExp = Experiment(expDir)\n",
    "        newExp.takeScale()\n",
    "        newExp.addCirclePotisionRad('startReg',newExp._scale / 5)\n",
    "        newExp.addCirclePotisionRad('endReg',newExp._scale / 4)\n",
    "        newExp.save()\n",
    "        pass\n",
    "        \n",
    "        \n",
    "    currentDate = re.search('\\d\\d-\\w\\w\\w-\\d\\d\\d\\d',trackedDir)[0]\n",
    "    currentTime = re.search('_(\\d\\d\\.\\d\\d\\.\\d\\d)',path.basename(fullFile))[1]\n",
    "    cond = re.search('(.*)\\.avi',path.basename(fullFile))[1]\n",
    "    \n",
    "    # Irregularities\n",
    "    #if cond == 'STAP_Mock':\n",
    "    #    cond = 'MOCK_STAP'\n",
    "    #elif cond == 'LTAV_MOCK':\n",
    "    #    cond = 'MOCK_LTAV'\n",
    "    #elif cond == 'TEMP_EYAL_LIGHT':\n",
    "    #    continue\n",
    "    \n",
    "    expDf.loc[i] = [currentDate, currentTime, cond, fullFile]\n",
    "    #print('Date: ' + currentDate + ' Cond: ' + cond)\n",
    "expDf"
   ]
  },
  {
   "cell_type": "markdown",
   "metadata": {},
   "source": [
    "\n",
    "# Pair analyses"
   ]
  },
  {
   "cell_type": "code",
   "execution_count": 7,
   "metadata": {},
   "outputs": [
    {
     "data": {
      "application/vnd.jupyter.widget-view+json": {
       "model_id": "502cd78ee75c4b5b9221558299342bd1",
       "version_major": 2,
       "version_minor": 0
      },
      "text/plain": [
       "Output()"
      ]
     },
     "metadata": {},
     "output_type": "display_data"
    },
    {
     "data": {
      "application/vnd.jupyter.widget-view+json": {
       "model_id": "d45fb137ebab43a6b4c628be6fa8a172",
       "version_major": 2,
       "version_minor": 0
      },
      "text/plain": [
       "HBox(children=(VBox(children=(Dropdown(description='Cond', options=('TPH_1_NO_ATR_TRAIN_IAA3x5', 'TPH_1_ATR[NO…"
      ]
     },
     "metadata": {},
     "output_type": "display_data"
    }
   ],
   "source": [
    "import sys\n",
    "sys.path.append('/home/itskov/workspace/lab/DeepSemantic/WormSegmentation')\n",
    "\n",
    "\n",
    "import ipywidgets as widgets\n",
    "from ipywidgets import interact, interactive, fixed, interact_manual, widgets, VBox,HBox\n",
    "\n",
    "from Behavior.Visualizers.PairwiseAnalyses import PairWiseRoi\n",
    "from Behavior.Visualizers.PairwiseAnalyses import PairWiseProjectionDensity, PairWiseOccupVisoulatizer, PairWiseSpeedDensity, PairWiseRevDistances\n",
    "from Behavior.General.TracksFilter import filterTracksForAnalyses\n",
    "\n",
    "\n",
    "\n",
    "# First experiment widgets\n",
    "#print(pd.unique(expDf['date']))\n",
    "dateWidget1 = widgets.Dropdown(options=pd.unique(expDf['date']),value=expDf['date'][0], description='Date')\n",
    "condWidget1 = widgets.Dropdown(options=pd.unique(expDf['cond']),value=expDf['cond'][0], description='Cond')\n",
    "timeWidget1 = widgets.Dropdown(options=[], description='Time')\n",
    "\n",
    "# Second experiment widgets\n",
    "dateWidget2 = widgets.Dropdown(options=pd.unique(expDf['date']),value=expDf['date'][0], description='Date')\n",
    "condWidget2 = widgets.Dropdown(options=pd.unique(expDf['cond']),value=expDf['cond'][0], description='Cond')\n",
    "timeWidget2 = widgets.Dropdown(options=[], description='Time')\n",
    "\n",
    "out = widgets.Output()\n",
    "display(out)\n",
    "\n",
    "@out.capture()\n",
    "def runAnalysis(arg):\n",
    "    firstCond = condWidget1.value\n",
    "    firstDate = dateWidget1.value\n",
    "    firstTime = timeWidget1.value\n",
    "    secondCond = condWidget2.value\n",
    "    secondDate = dateWidget2.value\n",
    "    secondTime = timeWidget2.value\n",
    "    \n",
    "    firstFile = expDf[(expDf.cond == firstCond) & \n",
    "                      (expDf.date == firstDate) & \n",
    "                      (expDf.time == firstTime)]['fullFile']\n",
    "    \n",
    "    secondFile = expDf[(expDf.cond == secondCond) & \n",
    "                       (expDf.date == secondDate) & \n",
    "                       (expDf.time == secondTime)]['fullFile']\n",
    "    \n",
    "    firstFile = path.join(firstFile.values[0],'exp.npy')\n",
    "    secondFile = path.join(secondFile.values[0],'exp.npy')\n",
    "    \n",
    "    print(firstFile)\n",
    "    print(secondFile)\n",
    "    firstExp = np.load(firstFile)[0]\n",
    "    secondExp = np.load(secondFile)[0]\n",
    "        \n",
    "    print('Filtering tracks for anaylses..')\n",
    "    #firstExp._tracks = filterTracksForAnalyses(firstExp._tracks)\n",
    "    #secondExp._tracks = filterTracksForAnalyses(secondExp._tracks)\n",
    "\n",
    "    PairWiseRoi(firstCond, firstExp, secondCond, secondExp)\n",
    "    PairWiseProjectionDensity(firstCond, firstExp, secondCond, secondExp)\n",
    "    PairWiseSpeedDensity(firstCond, firstExp, secondCond, secondExp)\n",
    "    PairWiseOccupVisoulatizer(firstCond, firstExp, secondCond, secondExp)\n",
    "    PairWiseRevDistances(firstCond, firstExp, secondCond, secondExp)\n",
    "    \n",
    "\n",
    "# Run button\n",
    "runButton = widgets.Button(description=\"Run\")\n",
    "runButton.on_click(runAnalysis)\n",
    "\n",
    "def on_cond_value_change1(*change):        \n",
    "    dateWidget1.options = pd.unique(expDf[expDf['cond'] == condWidget1.value]['date'])\n",
    "    timeWidget1.options = pd.unique(expDf[expDf['cond'] == condWidget1.value]['time'])\n",
    "    \n",
    "def on_date_value_change1(*change):\n",
    "    timeWidget1.options = expDf[(expDf['cond'] == condWidget1.value) & (expDf['date'] == dateWidget1.value) ]['time']\n",
    "    \n",
    "def on_cond_value_change2(*change):        \n",
    "    dateWidget2.options = pd.unique(expDf[expDf['cond'] == condWidget2.value]['date'])\n",
    "    timeWidget2.options = pd.unique(expDf[expDf['cond'] == condWidget2.value]['time'])\n",
    "\n",
    "def on_date_value_change2(*change):\n",
    "    timeWidget2.options = expDf[(expDf['cond'] == condWidget2.value) & (expDf['date'] == dateWidget2.value) ]['time']\n",
    "\n",
    "condWidget1.observe(on_cond_value_change1, names='value')\n",
    "dateWidget1.observe(on_date_value_change1, names='value')\n",
    "condWidget2.observe(on_cond_value_change2, names='value')\n",
    "dateWidget2.observe(on_date_value_change2, names='value')\n",
    "\n",
    "# Display layout\n",
    "HBox([VBox([condWidget1, dateWidget1, timeWidget1]), VBox([condWidget2, dateWidget2, timeWidget2]), runButton])"
   ]
  },
  {
   "cell_type": "markdown",
   "metadata": {},
   "source": [
    "# Create Pair Movie\n"
   ]
  },
  {
   "cell_type": "code",
   "execution_count": 1,
   "metadata": {},
   "outputs": [
    {
     "name": "stdout",
     "output_type": "stream",
     "text": [
      "Reinitializing.\n",
      "Reinitializing.\n",
      "Allocating space.\n",
      "Filtering tracks. Before 20298, After: 13953\n",
      "Allocating space.\n",
      "Filtering tracks. Before 270934, After: 187045\n",
      "Processed Frame 7986 / 7989"
     ]
    },
    {
     "ename": "AttributeError",
     "evalue": "'NoneType' object has no attribute '__array_interface__'",
     "output_type": "error",
     "traceback": [
      "\u001b[0;31m---------------------------------------------------------------------------\u001b[0m",
      "\u001b[0;31mAttributeError\u001b[0m                            Traceback (most recent call last)",
      "\u001b[0;32m<ipython-input-1-b1b22a6c6f8b>\u001b[0m in \u001b[0;36m<module>\u001b[0;34m\u001b[0m\n\u001b[1;32m      8\u001b[0m                   '/home/itskov/Temp/behav/28-Nov-2019/TPH_1_NO_ATR_TRAIN_IAA3x5.avi_13.56.35/exp.npy')\n\u001b[1;32m      9\u001b[0m \u001b[0;34m\u001b[0m\u001b[0m\n\u001b[0;32m---> 10\u001b[0;31m \u001b[0mexpPair\u001b[0m\u001b[0;34m.\u001b[0m\u001b[0mcreatePairVisualization\u001b[0m\u001b[0;34m(\u001b[0m\u001b[0;36m8000\u001b[0m\u001b[0;34m,\u001b[0m \u001b[0mdpi\u001b[0m\u001b[0;34m=\u001b[0m\u001b[0;36m20\u001b[0m\u001b[0;34m)\u001b[0m\u001b[0;34m\u001b[0m\u001b[0;34m\u001b[0m\u001b[0m\n\u001b[0m",
      "\u001b[0;32m~/workspace/lab/DeepSemantic/WormSegmentation/Behavior/General/ExpPair.py\u001b[0m in \u001b[0;36mcreatePairVisualization\u001b[0;34m(self, numberOfFrames, dpi)\u001b[0m\n\u001b[1;32m    143\u001b[0m         \u001b[0msns\u001b[0m\u001b[0;34m.\u001b[0m\u001b[0mset\u001b[0m\u001b[0;34m(\u001b[0m\u001b[0;34m)\u001b[0m\u001b[0;34m\u001b[0m\u001b[0;34m\u001b[0m\u001b[0m\n\u001b[1;32m    144\u001b[0m \u001b[0;34m\u001b[0m\u001b[0m\n\u001b[0;32m--> 145\u001b[0;31m         \u001b[0manim\u001b[0m \u001b[0;34m=\u001b[0m \u001b[0mFuncAnimation\u001b[0m\u001b[0;34m(\u001b[0m\u001b[0mfig\u001b[0m\u001b[0;34m,\u001b[0m \u001b[0mupdateMovie\u001b[0m\u001b[0;34m,\u001b[0m \u001b[0mframes\u001b[0m\u001b[0;34m=\u001b[0m\u001b[0mrange\u001b[0m\u001b[0;34m(\u001b[0m\u001b[0mframeLength\u001b[0m \u001b[0;34m-\u001b[0m \u001b[0;36m1\u001b[0m\u001b[0;34m)\u001b[0m\u001b[0;34m,\u001b[0m \u001b[0minit_func\u001b[0m\u001b[0;34m=\u001b[0m\u001b[0;32mlambda\u001b[0m\u001b[0;34m:\u001b[0m \u001b[0mupdateMovie\u001b[0m\u001b[0;34m(\u001b[0m\u001b[0;34m-\u001b[0m\u001b[0;36m1\u001b[0m\u001b[0;34m)\u001b[0m\u001b[0;34m)\u001b[0m\u001b[0;34m\u001b[0m\u001b[0;34m\u001b[0m\u001b[0m\n\u001b[0m\u001b[1;32m    146\u001b[0m         \u001b[0manim\u001b[0m\u001b[0;34m.\u001b[0m\u001b[0msave\u001b[0m\u001b[0;34m(\u001b[0m\u001b[0mpath\u001b[0m\u001b[0;34m.\u001b[0m\u001b[0mjoin\u001b[0m\u001b[0;34m(\u001b[0m\u001b[0mself\u001b[0m\u001b[0;34m.\u001b[0m\u001b[0m_targetPath\u001b[0m\u001b[0;34m,\u001b[0m \u001b[0;34m'exp_pair_vis.mp4'\u001b[0m\u001b[0;34m)\u001b[0m\u001b[0;34m,\u001b[0m \u001b[0mfps\u001b[0m\u001b[0;34m=\u001b[0m\u001b[0;36m40\u001b[0m\u001b[0;34m,\u001b[0m \u001b[0mextra_args\u001b[0m\u001b[0;34m=\u001b[0m\u001b[0;34m[\u001b[0m\u001b[0;34m'-vcodec'\u001b[0m\u001b[0;34m,\u001b[0m \u001b[0;34m'libx264'\u001b[0m\u001b[0;34m]\u001b[0m\u001b[0;34m,\u001b[0m \u001b[0mdpi\u001b[0m\u001b[0;34m=\u001b[0m\u001b[0mdpi\u001b[0m\u001b[0;34m)\u001b[0m\u001b[0;34m\u001b[0m\u001b[0;34m\u001b[0m\u001b[0m\n\u001b[1;32m    147\u001b[0m         \u001b[0;31m#plt.show()\u001b[0m\u001b[0;34m\u001b[0m\u001b[0;34m\u001b[0m\u001b[0;34m\u001b[0m\u001b[0m\n",
      "\u001b[0;32m~/Dropbox/workspace/homework/NeuralNetworks/venv/lib/python3.6/site-packages/matplotlib/animation.py\u001b[0m in \u001b[0;36msave\u001b[0;34m(self, filename, writer, fps, dpi, codec, bitrate, extra_args, metadata, extra_anim, savefig_kwargs)\u001b[0m\n\u001b[1;32m   1171\u001b[0m                     \u001b[0;32mfor\u001b[0m \u001b[0manim\u001b[0m\u001b[0;34m,\u001b[0m \u001b[0md\u001b[0m \u001b[0;32min\u001b[0m \u001b[0mzip\u001b[0m\u001b[0;34m(\u001b[0m\u001b[0mall_anim\u001b[0m\u001b[0;34m,\u001b[0m \u001b[0mdata\u001b[0m\u001b[0;34m)\u001b[0m\u001b[0;34m:\u001b[0m\u001b[0;34m\u001b[0m\u001b[0;34m\u001b[0m\u001b[0m\n\u001b[1;32m   1172\u001b[0m                         \u001b[0;31m# TODO: See if turning off blit is really necessary\u001b[0m\u001b[0;34m\u001b[0m\u001b[0;34m\u001b[0m\u001b[0;34m\u001b[0m\u001b[0m\n\u001b[0;32m-> 1173\u001b[0;31m                         \u001b[0manim\u001b[0m\u001b[0;34m.\u001b[0m\u001b[0m_draw_next_frame\u001b[0m\u001b[0;34m(\u001b[0m\u001b[0md\u001b[0m\u001b[0;34m,\u001b[0m \u001b[0mblit\u001b[0m\u001b[0;34m=\u001b[0m\u001b[0;32mFalse\u001b[0m\u001b[0;34m)\u001b[0m\u001b[0;34m\u001b[0m\u001b[0;34m\u001b[0m\u001b[0m\n\u001b[0m\u001b[1;32m   1174\u001b[0m                     \u001b[0mwriter\u001b[0m\u001b[0;34m.\u001b[0m\u001b[0mgrab_frame\u001b[0m\u001b[0;34m(\u001b[0m\u001b[0;34m**\u001b[0m\u001b[0msavefig_kwargs\u001b[0m\u001b[0;34m)\u001b[0m\u001b[0;34m\u001b[0m\u001b[0;34m\u001b[0m\u001b[0m\n\u001b[1;32m   1175\u001b[0m \u001b[0;34m\u001b[0m\u001b[0m\n",
      "\u001b[0;32m~/Dropbox/workspace/homework/NeuralNetworks/venv/lib/python3.6/site-packages/matplotlib/animation.py\u001b[0m in \u001b[0;36m_draw_next_frame\u001b[0;34m(self, framedata, blit)\u001b[0m\n\u001b[1;32m   1208\u001b[0m         \u001b[0;31m# post- draw, as well as the drawing of the frame itself.\u001b[0m\u001b[0;34m\u001b[0m\u001b[0;34m\u001b[0m\u001b[0;34m\u001b[0m\u001b[0m\n\u001b[1;32m   1209\u001b[0m         \u001b[0mself\u001b[0m\u001b[0;34m.\u001b[0m\u001b[0m_pre_draw\u001b[0m\u001b[0;34m(\u001b[0m\u001b[0mframedata\u001b[0m\u001b[0;34m,\u001b[0m \u001b[0mblit\u001b[0m\u001b[0;34m)\u001b[0m\u001b[0;34m\u001b[0m\u001b[0;34m\u001b[0m\u001b[0m\n\u001b[0;32m-> 1210\u001b[0;31m         \u001b[0mself\u001b[0m\u001b[0;34m.\u001b[0m\u001b[0m_draw_frame\u001b[0m\u001b[0;34m(\u001b[0m\u001b[0mframedata\u001b[0m\u001b[0;34m)\u001b[0m\u001b[0;34m\u001b[0m\u001b[0;34m\u001b[0m\u001b[0m\n\u001b[0m\u001b[1;32m   1211\u001b[0m         \u001b[0mself\u001b[0m\u001b[0;34m.\u001b[0m\u001b[0m_post_draw\u001b[0m\u001b[0;34m(\u001b[0m\u001b[0mframedata\u001b[0m\u001b[0;34m,\u001b[0m \u001b[0mblit\u001b[0m\u001b[0;34m)\u001b[0m\u001b[0;34m\u001b[0m\u001b[0;34m\u001b[0m\u001b[0m\n\u001b[1;32m   1212\u001b[0m \u001b[0;34m\u001b[0m\u001b[0m\n",
      "\u001b[0;32m~/Dropbox/workspace/homework/NeuralNetworks/venv/lib/python3.6/site-packages/matplotlib/animation.py\u001b[0m in \u001b[0;36m_draw_frame\u001b[0;34m(self, framedata)\u001b[0m\n\u001b[1;32m   1760\u001b[0m         \u001b[0;31m# Call the func with framedata and args. If blitting is desired,\u001b[0m\u001b[0;34m\u001b[0m\u001b[0;34m\u001b[0m\u001b[0;34m\u001b[0m\u001b[0m\n\u001b[1;32m   1761\u001b[0m         \u001b[0;31m# func needs to return a sequence of any artists that were modified.\u001b[0m\u001b[0;34m\u001b[0m\u001b[0;34m\u001b[0m\u001b[0;34m\u001b[0m\u001b[0m\n\u001b[0;32m-> 1762\u001b[0;31m         \u001b[0mself\u001b[0m\u001b[0;34m.\u001b[0m\u001b[0m_drawn_artists\u001b[0m \u001b[0;34m=\u001b[0m \u001b[0mself\u001b[0m\u001b[0;34m.\u001b[0m\u001b[0m_func\u001b[0m\u001b[0;34m(\u001b[0m\u001b[0mframedata\u001b[0m\u001b[0;34m,\u001b[0m \u001b[0;34m*\u001b[0m\u001b[0mself\u001b[0m\u001b[0;34m.\u001b[0m\u001b[0m_args\u001b[0m\u001b[0;34m)\u001b[0m\u001b[0;34m\u001b[0m\u001b[0;34m\u001b[0m\u001b[0m\n\u001b[0m\u001b[1;32m   1763\u001b[0m         \u001b[0;32mif\u001b[0m \u001b[0mself\u001b[0m\u001b[0;34m.\u001b[0m\u001b[0m_blit\u001b[0m\u001b[0;34m:\u001b[0m\u001b[0;34m\u001b[0m\u001b[0;34m\u001b[0m\u001b[0m\n\u001b[1;32m   1764\u001b[0m             \u001b[0;32mif\u001b[0m \u001b[0mself\u001b[0m\u001b[0;34m.\u001b[0m\u001b[0m_drawn_artists\u001b[0m \u001b[0;32mis\u001b[0m \u001b[0;32mNone\u001b[0m\u001b[0;34m:\u001b[0m\u001b[0;34m\u001b[0m\u001b[0;34m\u001b[0m\u001b[0m\n",
      "\u001b[0;32m~/workspace/lab/DeepSemantic/WormSegmentation/Behavior/General/ExpPair.py\u001b[0m in \u001b[0;36mupdateMovie\u001b[0;34m(frameNum)\u001b[0m\n\u001b[1;32m     94\u001b[0m             \u001b[0m_\u001b[0m\u001b[0;34m,\u001b[0m \u001b[0mfirstFrame\u001b[0m \u001b[0;34m=\u001b[0m \u001b[0mfirstCap\u001b[0m\u001b[0;34m.\u001b[0m\u001b[0mread\u001b[0m\u001b[0;34m(\u001b[0m\u001b[0;34m)\u001b[0m\u001b[0;34m\u001b[0m\u001b[0;34m\u001b[0m\u001b[0m\n\u001b[1;32m     95\u001b[0m             \u001b[0m_\u001b[0m\u001b[0;34m,\u001b[0m \u001b[0msecondFrame\u001b[0m \u001b[0;34m=\u001b[0m \u001b[0msecCap\u001b[0m\u001b[0;34m.\u001b[0m\u001b[0mread\u001b[0m\u001b[0;34m(\u001b[0m\u001b[0;34m)\u001b[0m\u001b[0;34m\u001b[0m\u001b[0;34m\u001b[0m\u001b[0m\n\u001b[0;32m---> 96\u001b[0;31m \u001b[0;34m\u001b[0m\u001b[0m\n\u001b[0m\u001b[1;32m     97\u001b[0m             \u001b[0mfirstImSeg\u001b[0m \u001b[0;34m=\u001b[0m \u001b[0mImage\u001b[0m\u001b[0;34m.\u001b[0m\u001b[0mfromarray\u001b[0m\u001b[0;34m(\u001b[0m\u001b[0mfirstFrame\u001b[0m\u001b[0;34m)\u001b[0m\u001b[0;34m\u001b[0m\u001b[0;34m\u001b[0m\u001b[0m\n\u001b[1;32m     98\u001b[0m             \u001b[0mfirstImRawDraw\u001b[0m \u001b[0;34m=\u001b[0m \u001b[0mImageDraw\u001b[0m\u001b[0;34m.\u001b[0m\u001b[0mDraw\u001b[0m\u001b[0;34m(\u001b[0m\u001b[0mfirstImSeg\u001b[0m\u001b[0;34m)\u001b[0m\u001b[0;34m\u001b[0m\u001b[0;34m\u001b[0m\u001b[0m\n",
      "\u001b[0;32m~/Dropbox/workspace/homework/NeuralNetworks/venv/lib/python3.6/site-packages/PIL/Image.py\u001b[0m in \u001b[0;36mfromarray\u001b[0;34m(obj, mode)\u001b[0m\n\u001b[1;32m   2481\u001b[0m     \u001b[0;34m.\u001b[0m\u001b[0;34m.\u001b[0m \u001b[0mversionadded\u001b[0m\u001b[0;34m:\u001b[0m\u001b[0;34m:\u001b[0m \u001b[0;36m1.1\u001b[0m\u001b[0;36m.6\u001b[0m\u001b[0;34m\u001b[0m\u001b[0;34m\u001b[0m\u001b[0m\n\u001b[1;32m   2482\u001b[0m     \"\"\"\n\u001b[0;32m-> 2483\u001b[0;31m     \u001b[0marr\u001b[0m \u001b[0;34m=\u001b[0m \u001b[0mobj\u001b[0m\u001b[0;34m.\u001b[0m\u001b[0m__array_interface__\u001b[0m\u001b[0;34m\u001b[0m\u001b[0;34m\u001b[0m\u001b[0m\n\u001b[0m\u001b[1;32m   2484\u001b[0m     \u001b[0mshape\u001b[0m \u001b[0;34m=\u001b[0m \u001b[0marr\u001b[0m\u001b[0;34m[\u001b[0m\u001b[0;34m'shape'\u001b[0m\u001b[0;34m]\u001b[0m\u001b[0;34m\u001b[0m\u001b[0;34m\u001b[0m\u001b[0m\n\u001b[1;32m   2485\u001b[0m     \u001b[0mndim\u001b[0m \u001b[0;34m=\u001b[0m \u001b[0mlen\u001b[0m\u001b[0;34m(\u001b[0m\u001b[0mshape\u001b[0m\u001b[0;34m)\u001b[0m\u001b[0;34m\u001b[0m\u001b[0;34m\u001b[0m\u001b[0m\n",
      "\u001b[0;31mAttributeError\u001b[0m: 'NoneType' object has no attribute '__array_interface__'"
     ]
    }
   ],
   "source": [
    "import sys\n",
    "sys.path.append('/home/itskov/workspace/lab/DeepSemantic/WormSegmentation')\n",
    "\n",
    "\n",
    "from Behavior.General.ExpPair import ExpPair\n",
    "\n",
    "expPair = ExpPair('/home/itskov/Temp/behav/28-Nov-2019/TPH_1_ATR_TRAIN_IAA3x5.avi_13.57.17/exp.npy', \n",
    "                  '/home/itskov/Temp/behav/28-Nov-2019/TPH_1_NO_ATR_TRAIN_IAA3x5.avi_13.56.35/exp.npy')\n",
    "\n",
    "expPair.createPairVisualization(7900, dpi=250)"
   ]
  }
 ],
 "metadata": {
  "kernelspec": {
   "display_name": "Python 3",
   "language": "python",
   "name": "python3"
  },
  "language_info": {
   "codemirror_mode": {
    "name": "ipython",
    "version": 3
   },
   "file_extension": ".py",
   "mimetype": "text/x-python",
   "name": "python",
   "nbconvert_exporter": "python",
   "pygments_lexer": "ipython3",
   "version": "3.6.6"
  }
 },
 "nbformat": 4,
 "nbformat_minor": 4
}
