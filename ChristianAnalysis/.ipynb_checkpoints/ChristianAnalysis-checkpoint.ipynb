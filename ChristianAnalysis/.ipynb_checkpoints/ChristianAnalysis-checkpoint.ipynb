{
 "cells": [
  {
   "cell_type": "markdown",
   "metadata": {},
   "source": [
    "# First make sure all the files are ready for analysis"
   ]
  },
  {
   "cell_type": "code",
   "execution_count": null,
   "metadata": {},
   "outputs": [
    {
     "name": "stdout",
     "output_type": "stream",
     "text": [
      "Starting..\n",
      "0. Going over /home/itskov/Temp/behav/28-Nov-2019/TPH_1_NO_ATR_TRAIN_IAA3x5.avi_11.57.17\n",
      "Initializing Experiment with dir: /home/itskov/Temp/behav/28-Nov-2019/TPH_1_NO_ATR_TRAIN_IAA3x5.avi_11.57.17 and with 23841 tracks\n"
     ]
    }
   ],
   "source": [
    "import sys\n",
    "sys.path.append('/home/itskov/workspace/lab/DeepSemantic/WormSegmentation')\n",
    "\n",
    "import matplotlib\n",
    "#matplotlib.use('TkAgg')\n",
    "\n",
    "from glob2 import glob\n",
    "from Behavior.General.ExpDir import ExpDir\n",
    "from Behavior.General.Experiment import Experiment\n",
    "from os import listdir, path\n",
    "import pandas as pd\n",
    "\n",
    "\n",
    "# Debug (Temporary)\n",
    "from Behavior.General import Track\n",
    "sys.modules['Track'] = Track\n",
    "# Debug (Temporary)\n",
    "\n",
    "import numpy as np\n",
    "import re\n",
    "\n",
    "print('Starting..')\n",
    "\n",
    "# Here is where the tracked files are stored.\n",
    "rootDir = '/home/itskov/Temp/behav/'\n",
    "#rootDir = '/mnt/storageNASRe/ChristianData/ChrisNewTracks/'\n",
    "allTrackedFiles = glob(rootDir + '/**/*tracks.npy')\n",
    "allTrackedDirectories = [path.dirname(tracksFile) for tracksFile in allTrackedFiles]\n",
    "\n",
    "# Here we store our experiments meta information\n",
    "expDf = pd.DataFrame(columns=['date','time', 'cond','fullFile'])\n",
    "\n",
    "for i, trackedDir in enumerate(allTrackedDirectories):\n",
    "    fullFile = path.join(rootDir, trackedDir)\n",
    "    print(\"%d. Going over %s\" % (i, fullFile))\n",
    "    \n",
    "    # This object helps us manage the tracked files.\n",
    "    expDir = ExpDir(str(fullFile))\n",
    "    \n",
    "    #if True:\n",
    "    if (expDir.getExpFile() == None) or (not expDir.isValid()):\n",
    "        #newExp = Experiment(expDir.getVidFile(), np.load(expDir.getTracksFile()))\n",
    "        newExp = Experiment(expDir)\n",
    "        newExp.takeScale()\n",
    "        newExp.addCirclePotisionRad('startReg',newExp._scale / 5)\n",
    "        newExp.addCirclePotisionRad('endReg',newExp._scale / 4)\n",
    "        newExp.save()\n",
    "        pass\n",
    "        \n",
    "        \n",
    "    currentDate = re.search('\\d\\d-\\w\\w\\w-\\d\\d\\d\\d',trackedDir)[0]\n",
    "    currentTime = re.search('_(\\d\\d\\.\\d\\d\\.\\d\\d)',path.basename(fullFile))[1]\n",
    "    cond = re.search('(.*)\\.avi',path.basename(fullFile))[1]\n",
    "    \n",
    "    # Irregularities\n",
    "    #if cond == 'STAP_Mock':\n",
    "    #    cond = 'MOCK_STAP'\n",
    "    #elif cond == 'LTAV_MOCK':\n",
    "    #    cond = 'MOCK_LTAV'\n",
    "    #elif cond == 'TEMP_EYAL_LIGHT':\n",
    "    #    continue\n",
    "    \n",
    "    expDf.loc[i] = [currentDate, currentTime, cond, fullFile]\n",
    "    #print('Date: ' + currentDate + ' Cond: ' + cond)\n",
    "expDf"
   ]
  },
  {
   "cell_type": "markdown",
   "metadata": {},
   "source": [
    "\n",
    "# Pair analyses"
   ]
  },
  {
   "cell_type": "code",
   "execution_count": 2,
   "metadata": {},
   "outputs": [
    {
     "name": "stderr",
     "output_type": "stream",
     "text": [
      "/home/itskov/Dropbox/workspace/homework/NeuralNetworks/venv/lib/python3.6/site-packages/ggplot/utils.py:81: FutureWarning: pandas.tslib is deprecated and will be removed in a future version.\n",
      "You can access Timestamp as pandas.Timestamp\n",
      "  pd.tslib.Timestamp,\n",
      "/home/itskov/Dropbox/workspace/homework/NeuralNetworks/venv/lib/python3.6/site-packages/ggplot/stats/smoothers.py:4: FutureWarning: The pandas.lib module is deprecated and will be removed in a future version. These are private functions and can be accessed from pandas._libs.lib instead\n",
      "  from pandas.lib import Timestamp\n"
     ]
    },
    {
     "data": {
      "application/vnd.jupyter.widget-view+json": {
       "model_id": "6c1f8d8bc9e34388a6c2664154ac24b4",
       "version_major": 2,
       "version_minor": 0
      },
      "text/plain": [
       "Output()"
      ]
     },
     "metadata": {},
     "output_type": "display_data"
    },
    {
     "data": {
      "application/vnd.jupyter.widget-view+json": {
       "model_id": "c900b1d19c6f4b50b689deb4417b10ad",
       "version_major": 2,
       "version_minor": 0
      },
      "text/plain": [
       "HBox(children=(VBox(children=(Dropdown(description='Cond', options=('TPH_1_NO_ATR_TRAIN_IAA3x5', 'TPH_1_NO_ATR…"
      ]
     },
     "metadata": {},
     "output_type": "display_data"
    }
   ],
   "source": [
    "import sys\n",
    "sys.path.append('/home/itskov/workspace/lab/DeepSemantic/WormSegmentation')\n",
    "\n",
    "\n",
    "import ipywidgets as widgets\n",
    "from ipywidgets import interact, interactive, fixed, interact_manual, widgets, VBox,HBox\n",
    "\n",
    "from Behavior.Visualizers.PairwiseAnalyses import PairWiseRoi\n",
    "from Behavior.Visualizers.PairwiseAnalyses import PairWiseProjectionDensity, PairWiseOccupVisoulatizer, PairWiseSpeedDensity, PairWiseRevDistances\n",
    "from Behavior.General.TracksFilter import filterTracksForAnalyses\n",
    "\n",
    "\n",
    "\n",
    "# First experiment widgets\n",
    "#print(pd.unique(expDf['date']))\n",
    "dateWidget1 = widgets.Dropdown(options=pd.unique(expDf['date']),value=expDf['date'][0], description='Date')\n",
    "condWidget1 = widgets.Dropdown(options=pd.unique(expDf['cond']),value=expDf['cond'][0], description='Cond')\n",
    "timeWidget1 = widgets.Dropdown(options=[], description='Time')\n",
    "\n",
    "# Second experiment widgets\n",
    "dateWidget2 = widgets.Dropdown(options=pd.unique(expDf['date']),value=expDf['date'][0], description='Date')\n",
    "condWidget2 = widgets.Dropdown(options=pd.unique(expDf['cond']),value=expDf['cond'][0], description='Cond')\n",
    "timeWidget2 = widgets.Dropdown(options=[], description='Time')\n",
    "\n",
    "out = widgets.Output()\n",
    "display(out)\n",
    "\n",
    "@out.capture()\n",
    "def runAnalysis(arg):\n",
    "    firstCond = condWidget1.value\n",
    "    firstDate = dateWidget1.value\n",
    "    firstTime = timeWidget1.value\n",
    "    secondCond = condWidget2.value\n",
    "    secondDate = dateWidget2.value\n",
    "    secondTime = timeWidget2.value\n",
    "    \n",
    "    firstFile = expDf[(expDf.cond == firstCond) & \n",
    "                      (expDf.date == firstDate) & \n",
    "                      (expDf.time == firstTime)]['fullFile']\n",
    "    \n",
    "    secondFile = expDf[(expDf.cond == secondCond) & \n",
    "                       (expDf.date == secondDate) & \n",
    "                       (expDf.time == secondTime)]['fullFile']\n",
    "    \n",
    "    firstFile = path.join(firstFile.values[0],'exp.npy')\n",
    "    secondFile = path.join(secondFile.values[0],'exp.npy')\n",
    "    \n",
    "    print(firstFile)\n",
    "    print(secondFile)\n",
    "    firstExp = np.load(firstFile)[0]\n",
    "    secondExp = np.load(secondFile)[0]\n",
    "        \n",
    "    print('Filtering tracks for anaylses..')\n",
    "    #firstExp._tracks = filterTracksForAnalyses(firstExp._tracks)\n",
    "    #secondExp._tracks = filterTracksForAnalyses(secondExp._tracks)\n",
    "\n",
    "    PairWiseRoi(firstCond, firstExp, secondCond, secondExp)\n",
    "    PairWiseProjectionDensity(firstCond, firstExp, secondCond, secondExp)\n",
    "    PairWiseSpeedDensity(firstCond, firstExp, secondCond, secondExp)\n",
    "    PairWiseOccupVisoulatizer(firstCond, firstExp, secondCond, secondExp)\n",
    "    PairWiseRevDistances(firstCond, firstExp, secondCond, secondExp)\n",
    "    \n",
    "\n",
    "# Run button\n",
    "runButton = widgets.Button(description=\"Run\")\n",
    "runButton.on_click(runAnalysis)\n",
    "\n",
    "def on_cond_value_change1(*change):        \n",
    "    dateWidget1.options = pd.unique(expDf[expDf['cond'] == condWidget1.value]['date'])\n",
    "    timeWidget1.options = pd.unique(expDf[expDf['cond'] == condWidget1.value]['time'])\n",
    "    \n",
    "def on_date_value_change1(*change):\n",
    "    timeWidget1.options = expDf[(expDf['cond'] == condWidget1.value) & (expDf['date'] == dateWidget1.value) ]['time']\n",
    "    \n",
    "def on_cond_value_change2(*change):        \n",
    "    dateWidget2.options = pd.unique(expDf[expDf['cond'] == condWidget2.value]['date'])\n",
    "    timeWidget2.options = pd.unique(expDf[expDf['cond'] == condWidget2.value]['time'])\n",
    "\n",
    "def on_date_value_change2(*change):\n",
    "    timeWidget2.options = expDf[(expDf['cond'] == condWidget2.value) & (expDf['date'] == dateWidget2.value) ]['time']\n",
    "\n",
    "condWidget1.observe(on_cond_value_change1, names='value')\n",
    "dateWidget1.observe(on_date_value_change1, names='value')\n",
    "condWidget2.observe(on_cond_value_change2, names='value')\n",
    "dateWidget2.observe(on_date_value_change2, names='value')\n",
    "\n",
    "# Display layout\n",
    "HBox([VBox([condWidget1, dateWidget1, timeWidget1]), VBox([condWidget2, dateWidget2, timeWidget2]), runButton])"
   ]
  }
 ],
 "metadata": {
  "kernelspec": {
   "display_name": "Python 3",
   "language": "python",
   "name": "python3"
  },
  "language_info": {
   "codemirror_mode": {
    "name": "ipython",
    "version": 3
   },
   "file_extension": ".py",
   "mimetype": "text/x-python",
   "name": "python",
   "nbconvert_exporter": "python",
   "pygments_lexer": "ipython3",
   "version": "3.6.6"
  }
 },
 "nbformat": 4,
 "nbformat_minor": 4
}
